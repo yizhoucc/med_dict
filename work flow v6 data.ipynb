{
 "cells": [
  {
   "cell_type": "code",
   "execution_count": null,
   "id": "9b2c708e",
   "metadata": {},
   "outputs": [],
   "source": [
    "# get the 8th grade and common words"
   ]
  },
  {
   "cell_type": "markdown",
   "id": "f43c967d-ea35-4d4e-8ddc-f39328032b1a",
   "metadata": {},
   "source": [
    "## import"
   ]
  },
  {
   "cell_type": "code",
   "execution_count": null,
   "id": "1e3b7919-277b-47b9-95b9-eab518373862",
   "metadata": {
    "editable": true,
    "slideshow": {
     "slide_type": ""
    },
    "tags": []
   },
   "outputs": [],
   "source": []
  },
  {
   "cell_type": "code",
   "execution_count": 13,
   "id": "7999d10d",
   "metadata": {},
   "outputs": [
    {
     "name": "stdout",
     "output_type": "stream",
     "text": [
      "Step 1: Building a list of common English words...\n",
      "NLTK corpora (brown, stopwords) already downloaded.\n",
      "Created a filter list with 1939 common words.\n",
      "\n",
      "Step 2: Loading and filtering your medical dictionary from 'work flow v6 data.csv'...\n",
      "\n",
      "Filtering complete!\n",
      " - Original number of terms: 9365\n",
      " - Number of common terms removed: 30\n",
      " - Final number of terms: 9335\n",
      "\n",
      "Step 3: Successfully saved the filtered medical dictionary to 'filtered_medical_dictionary.csv'\n"
     ]
    }
   ],
   "source": [
    "import csv\n",
    "import nltk\n",
    "from collections import Counter\n",
    "import pandas as pd\n",
    "import os\n",
    "\n",
    "input_filepath='work flow v6 data.csv'\n",
    "output_filepath='filtered_medical_dictionary.csv'\n",
    "\"\"\"\n",
    "Removes common English words from a medical dictionary file.\n",
    "\n",
    "Args:\n",
    "    input_filepath (str): Path to the original medical dictionary CSV.\n",
    "    output_filepath (str): Path to save the filtered CSV.\n",
    "\"\"\"\n",
    "\n",
    "# --- Part 1: Build the list of common English words to filter out ---\n",
    "\n",
    "print(\"Step 1: Building a list of common English words...\")\n",
    "\n",
    "# Attempt to download the required NLTK data packages.\n",
    "# This needs to be done only once.\n",
    "\n",
    "nltk.data.find('corpora/brown')\n",
    "nltk.data.find('corpora/stopwords')\n",
    "print(\"NLTK corpora (brown, stopwords) already downloaded.\")\n",
    "from nltk.corpus import brown, stopwords\n",
    "\n",
    "# Get all alphabetical words from the Brown Corpus (a balanced sample of English text)\n",
    "all_words = [word.lower() for word in brown.words() if word.isalpha()]\n",
    "word_freq = Counter(all_words)\n",
    "stop_words = set(stopwords.words('english'))\n",
    "\n",
    "# Select words that are common, but not stop words.\n",
    "# We choose words with a frequency of at least 50.\n",
    "common_words_set = set()\n",
    "for word, freq in word_freq.items():\n",
    "    if (freq >= 50 and 4 <= len(word) <= 20 and word not in stop_words):\n",
    "        common_words_set.add(word)\n",
    "\n",
    "# For extra robustness, let's take the top 3000 most frequent from this set\n",
    "sorted_common_words = sorted(list(common_words_set), key=lambda w: word_freq[w], reverse=True)\n",
    "final_filter_set = set(sorted_common_words[:])\n",
    "\n",
    "print(f\"Created a filter list with {len(final_filter_set)} common words.\")\n",
    "\n",
    "# --- Part 2: Load and filter your medical dictionary ---\n",
    "\n",
    "print(f\"\\nStep 2: Loading and filtering your medical dictionary from '{input_filepath}'...\")\n",
    "\n",
    "\n",
    "# Load your dictionary. Assuming it has one column with no header.\n",
    "med_terms_df = pd.read_csv(input_filepath, header=None, names=['Term'])\n",
    "original_term_count = len(med_terms_df)\n",
    "\n",
    "# The core filtering logic: keep a term only if its lowercase version is NOT in our filter set.\n",
    "filtered_df = med_terms_df[~med_terms_df['Term'].str.lower().isin(final_filter_set)]\n",
    "filtered_term_count = len(filtered_df)\n",
    "\n",
    "words_removed_count = original_term_count - filtered_term_count\n",
    "\n",
    "print(f\"\\nFiltering complete!\")\n",
    "print(f\" - Original number of terms: {original_term_count}\")\n",
    "print(f\" - Number of common terms removed: {words_removed_count}\")\n",
    "print(f\" - Final number of terms: {filtered_term_count}\")\n",
    "\n",
    "# --- Part 3: Save the result ---\n",
    "\n",
    "filtered_df.to_csv(output_filepath, index=False)\n",
    "print(f\"\\nStep 3: Successfully saved the filtered medical dictionary to '{output_filepath}'\")\n"
   ]
  },
  {
   "cell_type": "code",
   "execution_count": null,
   "id": "76c3596f",
   "metadata": {},
   "outputs": [],
   "source": []
  }
 ],
 "metadata": {
  "kernelspec": {
   "display_name": "Python 3",
   "language": "python",
   "name": "python3"
  },
  "language_info": {
   "codemirror_mode": {
    "name": "ipython",
    "version": 3
   },
   "file_extension": ".py",
   "mimetype": "text/x-python",
   "name": "python",
   "nbconvert_exporter": "python",
   "pygments_lexer": "ipython3",
   "version": "3.10.12"
  }
 },
 "nbformat": 4,
 "nbformat_minor": 5
}
