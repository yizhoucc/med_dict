{
 "cells": [
  {
   "cell_type": "code",
   "execution_count": 2,
   "id": "503c81c2-012a-4e15-a255-a4a3e4c576d7",
   "metadata": {
    "editable": true,
    "slideshow": {
     "slide_type": ""
    },
    "tags": []
   },
   "outputs": [],
   "source": [
    "!pip install sentencepiece protobuf datasets transformers trl textstat peft bitsandbytes nltk --quiet\n",
    "!pip install -U bitsandbytes accelerate --quiet"
   ]
  },
  {
   "cell_type": "markdown",
   "id": "b53651bb",
   "metadata": {},
   "source": [
    "v4 is about oncology notes"
   ]
  },
  {
   "cell_type": "markdown",
   "id": "f43c967d-ea35-4d4e-8ddc-f39328032b1a",
   "metadata": {},
   "source": [
    "## import"
   ]
  },
  {
   "cell_type": "code",
   "execution_count": 3,
   "id": "1e3b7919-277b-47b9-95b9-eab518373862",
   "metadata": {
    "editable": true,
    "slideshow": {
     "slide_type": ""
    },
    "tags": []
   },
   "outputs": [
    {
     "name": "stderr",
     "output_type": "stream",
     "text": [
      "/home/yc/.local/lib/python3.10/site-packages/tqdm/auto.py:21: TqdmWarning: IProgress not found. Please update jupyter and ipywidgets. See https://ipywidgets.readthedocs.io/en/stable/user_install.html\n",
      "  from .autonotebook import tqdm as notebook_tqdm\n"
     ]
    },
    {
     "ename": "NameError",
     "evalue": "name 'hftoken' is not defined",
     "output_type": "error",
     "traceback": [
      "\u001b[0;31m---------------------------------------------------------------------------\u001b[0m",
      "\u001b[0;31mNameError\u001b[0m                                 Traceback (most recent call last)",
      "Cell \u001b[0;32mIn[3], line 49\u001b[0m\n\u001b[1;32m     47\u001b[0m \u001b[38;5;66;03m# Optional: Uncomment if needed\u001b[39;00m\n\u001b[1;32m     48\u001b[0m \u001b[38;5;28;01mfrom\u001b[39;00m \u001b[38;5;21;01mhuggingface_hub\u001b[39;00m \u001b[38;5;28;01mimport\u001b[39;00m login\n\u001b[0;32m---> 49\u001b[0m login(token\u001b[38;5;241m=\u001b[39m\u001b[43mhftoken\u001b[49m)  \u001b[38;5;66;03m# Move token to environment variable\u001b[39;00m\n",
      "\u001b[0;31mNameError\u001b[0m: name 'hftoken' is not defined"
     ]
    }
   ],
   "source": [
    "# Standard library imports\n",
    "import csv\n",
    "import json\n",
    "import os\n",
    "import random\n",
    "import re\n",
    "import sys\n",
    "import time\n",
    "from collections import Counter\n",
    "from collections import defaultdict\n",
    "cache_dir = \"/mnt/c/Users/yc/.cache/huggingface\"\n",
    "os.environ['HF_HOME'] = cache_dir\n",
    "# Third-party data and ML libraries\n",
    "import pandas as pd\n",
    "import torch\n",
    "import nltk\n",
    "from nltk.tokenize import word_tokenize\n",
    "\n",
    "# Hugging Face ecosystem\n",
    "from datasets import Dataset, load_dataset\n",
    "from transformers import (\n",
    "    AutoModelForCausalLM,\n",
    "    AutoTokenizer,\n",
    "    BitsAndBytesConfig,\n",
    "    HfArgumentParser,\n",
    "    TrainingArguments,\n",
    "    Trainer,\n",
    "    pipeline,\n",
    "    logging,\n",
    ")\n",
    "\n",
    "# Fine-tuning and optimization\n",
    "from peft import LoraConfig, PeftModel\n",
    "from trl import SFTTrainer\n",
    "\n",
    "# Text analysis and readability metrics\n",
    "from textstat import (\n",
    "    flesch_kincaid_grade, \n",
    "    flesch_reading_ease,\n",
    "    smog_index, \n",
    "    gunning_fog, \n",
    "    dale_chall_readability_score,\n",
    "    text_standard, \n",
    "    syllable_count\n",
    ")\n",
    "\n",
    "# Optional: Uncomment if needed\n",
    "from huggingface_hub import login\n",
    "login(token=hftoken)  # Move token to environment variable"
   ]
  },
  {
   "cell_type": "markdown",
   "id": "18e1c388-57f9-41b0-87d1-25a9ad884430",
   "metadata": {},
   "source": [
    "## data"
   ]
  },
  {
   "cell_type": "code",
   "execution_count": 6,
   "id": "d2e157ab",
   "metadata": {},
   "outputs": [],
   "source": [
    "breastca_unannotated = pd.read_csv('/mnt/c/Users/yc/Downloads/coral/unannotated/data/breastca_unannotated.csv')\n",
    "pdac_unannotated = pd.read_csv('/mnt/c/Users/yc/Downloads/coral/unannotated/data/pdac_unannotated.csv')\n",
    "\n"
   ]
  },
  {
   "cell_type": "code",
   "execution_count": 11,
   "id": "627c6e6a",
   "metadata": {},
   "outputs": [
    {
     "name": "stdout",
     "output_type": "stream",
     "text": [
      "==================================================\n",
      " 1. Medical Oncology Consult Note    Patient Name: ***** *****   Patient MRN:  *****   Patient DOB:  11/23/1963   Date of Visit:  12/30/2019  Provider:  ***** ***** *****  Primary Care Provider:  None Per Patient Provider  Referring MD:        Reason for visit:   Chief Complaint   Patient presents with   \u0007 New Patient Evaluation       Diagnosis:    1.\n",
      " 2. Malignant neoplasm of overlapping sites of right breast in female, estrogen receptor positive (CMS code)  NM Whole Body Bone Scan    MR Brain with and without Contrast    Complete Blood Count with Differential    Comprehensive Metabolic Panel (BMP, AST, ALT, T.BILI, ALKP, TP, ALB)    Cancer Antigen 15-3    Carcinoembryonic Antigen    Activated Partial Thromboplastin Time    Prothrombin Time    Ambulatory Referral to Integrative Medicine       History of Present Illness:   56 year old female diagnosed in May 2013 with a multifocal Stage IIA right breast cancer.\n",
      " 3. She had a mastectomy with sentinel node and implant reconstruction in June 2013 and had  2.3 and 2.4 cm tumors found with a negative sentinel node.\n",
      " 4. The tumors were G2,  ER and PR positive and her 2 neu negative.\n",
      " 5. She did not have radiation or chemotherapy and declined tamoxifen.\n",
      " 6. She has had ***** but no other imaging since her diagnosis for screening and was treated at *****.\n",
      " 7. She reports feeling discomfort and pressure in her waist and back for a few months and nausea and burping for a week.\n",
      " 8. She went to the ER and had a CT scan which shows widely metastatic cancer.\n",
      " 9. She has involvement of the lungs, peritoneum, liver and ovary with a local recurrence near the right axilla and implant.\n",
      "10. She takes a long list of supplements which she will send to me.\n",
      "11. She wants to have natural therapies.\n",
      "12. She is very scared and appears anxious.\n",
      "13. Her husband is here and very supportive.\n",
      "14. We discussed how we need to get a biopsy to evaluate the phenotype of the cancer and she is agreeable.\n",
      "15. I will set her up to see Dr.\n",
      "16. ***** this week for a biopsy of the right axilla in the office.\n",
      "17. We discussed how treatment would be palliative but that treatment could improve her quality of life as well as length of life.\n",
      "18. She asked me multiple times if this can be cured.\n",
      "19. I will refer her to the ***** center.\n",
      "20. I also ordered a MRI of brain and bone scan as well as labs to complete her work up.\n",
      "21. Oncologic history    Patient Active Problem List    Diagnosis Date Noted   \u0007 Malignant neoplasm of overlapping sites of right breast in female, estrogen receptor positive (CMS code) 01/02/2020   \u0007 Mass of right chest wall 01/01/2020       Stage at *****:  Cancer Staging  Malignant neoplasm of overlapping sites of right breast in female, estrogen receptor positive (CMS code)  Staging form: Breast, AJCC 8th Edition  - Pathologic stage from 07/04/2013: Stage ***** (pT2, *****(sn), *****, G2, ER+, PR+, *****-) - Signed by ***** ***** *****, MD on 01/02/2020      Medications:  No current outpatient medications on file.\n",
      "22. No current facility-administered medications for this visit.\n",
      "23. Allergies:   Allergies/Contraindications   Allergen Reactions   \u0007 Penicillins Rash     Rash  Rash         Medical History:   Past Medical History:   Diagnosis Date   \u0007 Anxiety    \u0007 Breast cancer (CMS code)    \u0007 Hyperlipidemia        Surgical History:   Past Surgical History:   Procedure Laterality Date   \u0007 CYST REMOVAL      neck   \u0007 MASTECTOMY Right     with sentinel node and implant placement.\n",
      "24. \u0007 MYOMECTOMY         Social History:   Social History     Tobacco Use   \u0007 Smoking status: Never Smoker   Substance and Sexual Activity   \u0007 Alcohol use: Yes     Comment: rare   \u0007 Drug use: Never   \u0007 Sexual activity: Yes     Partners: Male       *****:  *****    ***** Status: married ***** husband    Gynecologic History:  G 3 P 1 AB 2    Menarche 12  Menopause  52   OCP 0 years HRT 0 years   Fertility treatments 1-2 years of IVF     Family History:   Family \n",
      " History   Problem Relation Name Age of Onset   \u0007 Lung cancer Mother     \u0007 Lung cancer Father     \u0007 Esophageal cancer Maternal Uncle                 Review of systems:  CONSTITUTIONAL: No fevers, chills, night sweats, loss of appetite or weight loss  H/E/N/T:  No headaches, vision changes, mouth sores  CV: No *****, orthopnea  PULM: No cough, hemoptysis or sob.\n",
      "25. ABD:  No abdominal pain, nausea, vomiting, diarrhea, or bleeding  GU:  No dysuria or hematuria  SKIN:  No rash or bruising  NEURO:  No difficulty with speech, balance, or gait, no headache  MUSC:  No joint pain  PSYCH:  No depression, or anxiety or trouble sleeping.\n",
      "26. Pain    Pain Score/Location    12/30/19 1611   *****:  0       Code status:   Advance Care Planning   Full code.\n",
      "27. Performance status:  0 - Asymptomatic    Physical exam:  BP 117/74  | Pulse 96  | Temp 36 C (96.8 F)  | Resp 20  | Ht 154.1 cm (5' 0.67\") Comment: 12/30/2019@***** | Wt 63.5 kg (140 lb 1.6 oz)  | SpO2 99%  | BMI 26.76 kg/m   GEN: No acute distress, awake and alert, appears stated age  HEENT: No oral lesions  Neck supple no lymphadenopathy  Cardiac: Regular rate, rhythm no murmur  Lungs:  clear to ascultation    Abdomen: Soft, non tender, non distended, she has hepatomegaly and omental masses that are palpable in the upper and mid abdomen.\n",
      "28. Non tender.\n",
      "29. Extremity: No edema  Lymph: no peripheral adenopathy  Neuro: *****-12 grossly intact, normal UE and LE strength.\n",
      "30. Skin: No rash  Breast left breast without mass or skin changes, right mastectomy site with mass in the axilla felt 3 cm in size.\n",
      "31. Labs:    No visits with results within 1 Month(s) from this visit.\n",
      "32. Latest known visit with results is:   Hospital Outpatient Visit on 12/11/2001   Component Date Value Ref Range Status   \u0007 Human Chorionic Gonadotropin for P***** 12/11/2001 <2  IU/L Final   IMPRESSION: CT chest, abdomen and pelvis 12/24/2019    1.\n",
      "33. Widespread metastases consistent with metastatic \n",
      " breast  carcinoma.\n",
      "34. 2.\n",
      "35. Right axillary adenopathy with 1.8 cm spiculated mass along  superolateral margin of right breast implant, suspicious for  regional recurrence.\n",
      "36. 3.\n",
      "37. Multiple small pulmonary nodules, right greater than left,  likely metastatic.\n",
      "38. 4.\n",
      "39. Large anterior right and left lobe hepatic masses likely  metastatic.\n",
      "40. 5.\n",
      "41. Peritoneal carcinomatosis with omental *****, nodularity, and  small possibly malignant effusion.\n",
      "42. 6.\n",
      "43. Mildly enlarged and hyperdense ovaries which could reflect  breast metastases to ovaries.\n",
      "44. 7.\n",
      "45. Appendix distended with fluid without associated inflammatory  wall thickening.\n",
      "46. A mucocele of the appendix would be a  consideration.\n",
      "47. 8.\n",
      "48. No CT evidence of osseous metastasis.\n",
      "49. Psychologic/emotional well-being/support  She is distressed.\n",
      "50. She has good support from her husband who is here today.\n",
      "51. Assessment / Plan:    1.\n",
      "52. Stage II right breast cancer s/p right mastectomy with sentinel node in June 2013 ( 2.4 and 2.3 cm tumors, node negative ER and PR positive and her 2 negative.)  No further adjuvant therapy given and patient declined tamoxifen.\n",
      "53. 2.\n",
      "54. Metastatic relapse of her breast cancer.\n",
      "55. She needs tissue confirmation and we will complete her staging work up.\n",
      "56. 3.\n",
      "57. Appointment with Dr.\n",
      "58. ***** on Thursday to biopsy mass in right axilla in the office.\n",
      "59. 4.\n",
      "60. RTC with me after completed work up to formulate a plan.\n",
      "61. If she is HR+/ her 2 negative on biopsy will recommend ibrance and *****.\n",
      "62. 5.\n",
      "63. I will ask the nurse to send her information about the treatment.\n",
      "64. 6.\n",
      "65. ***** ***** Referral asap.\n",
      "66. ***** ***** *****, MD  Medical Oncology/Hematology    TIME SPENT: 75 minutes examining patient, reviewing chart, coordinating care, discussing with patient and/or family.\n",
      "\n",
      "==================================================\n",
      "\n"
     ]
    }
   ],
   "source": [
    "note_text=(breastca_unannotated['note_text'].iloc[0])\n",
    "\n",
    "print(\"=\" * 50)\n",
    "sentences = note_text.split('. ')\n",
    "for i, sentence in enumerate(sentences, 1):\n",
    "    if sentence.strip():\n",
    "        sentence = sentence.strip()\n",
    "        if not sentence.endswith('.') and i < len(sentences):\n",
    "            sentence += '.'\n",
    "        print(f\"{i:2d}. {sentence}\")\n",
    "\n",
    "print(\"\\n\" + \"=\" * 50 + \"\\n\")"
   ]
  },
  {
   "cell_type": "code",
   "execution_count": null,
   "id": "cf6281f4-7ebb-48fd-a08b-4271349ededf",
   "metadata": {
    "editable": true,
    "slideshow": {
     "slide_type": ""
    },
    "tags": []
   },
   "outputs": [],
   "source": [
    "\n",
    "def calculate_readability_scores(text, term=None):\n",
    "    \"\"\"Calculate readability scores for a piece of text, optionally removing a term\"\"\"\n",
    "    scoring_text = text\n",
    "    \n",
    "    # Remove the term and its variations before scoring if provided\n",
    "    if term:\n",
    "        # Create variations of the term to remove (capitalized, lowercase)\n",
    "        term_variations = [term, term.lower(), term.capitalize()]\n",
    "        \n",
    "        for variation in term_variations:\n",
    "            scoring_text = scoring_text.replace(variation, \"\")\n",
    "        \n",
    "        # Clean up any double spaces created\n",
    "        scoring_text = \" \".join(scoring_text.split())\n",
    "    \n",
    "    fk_grade = flesch_kincaid_grade(scoring_text)\n",
    "    readability = flesch_reading_ease(scoring_text)\n",
    "    return {\n",
    "        \"fk_grade\": fk_grade,\n",
    "        \"readability\": readability,\n",
    "    } \n",
    "def txt_to_dict(file_path):\n",
    "    data_dict = {}\n",
    "    with open(file_path, 'r') as file:\n",
    "        lines = file.readlines()\n",
    "        for i in range(0, len(lines) - 1, 2):\n",
    "            key = lines[i].strip()    # Odd line are key\n",
    "            value = lines[i + 1].strip()  # Even line are value\n",
    "            data_dict[key] = value\n",
    "\n",
    "    return data_dict\n",
    "\n",
    "\n",
    "txt_file_path = 'formaldef.txt' \n",
    "formaldic = txt_to_dict(txt_file_path)\n",
    "len(formaldic)\n",
    "\n",
    "meddict={}\n",
    "for k,v in formaldic.items():\n",
    "    meddict[k.split('Listen to pronunciation')[0].split('(')[0]]=v"
   ]
  }
 ],
 "metadata": {
  "kernelspec": {
   "display_name": "Python 3",
   "language": "python",
   "name": "python3"
  },
  "language_info": {
   "codemirror_mode": {
    "name": "ipython",
    "version": 3
   },
   "file_extension": ".py",
   "mimetype": "text/x-python",
   "name": "python",
   "nbconvert_exporter": "python",
   "pygments_lexer": "ipython3",
   "version": "3.10.12"
  }
 },
 "nbformat": 4,
 "nbformat_minor": 5
}
