{
 "cells": [
  {
   "cell_type": "code",
   "execution_count": null,
   "metadata": {
    "vscode": {
     "languageId": "plaintext"
    }
   },
   "outputs": [],
   "source": []
  },
  {
   "cell_type": "code",
   "execution_count": null,
   "metadata": {},
   "outputs": [],
   "source": [
    "import torch\n",
    "from transformers import AutoTokenizer, AutoModelForCausalLM, Trainer, TrainingArguments\n",
    "from datasets import Dataset\n",
    "\n",
    "# Load LLaMA model and tokenizer from Hugging Face\n",
    "model_name = \"huggingface/llama\"  # Replace with actual LLaMA model name\n",
    "tokenizer = AutoTokenizer.from_pretrained(model_name)\n",
    "model = AutoModelForCausalLM.from_pretrained(model_name)\n",
    "\n",
    "# Assume `data` is a list of tuples (word, plain_explanation, formal_definition)\n",
    "data = [\n",
    "    (\"Hypertension\", \"High blood pressure\", \"A condition in which the force of the blood against the artery walls is too high.\"),\n",
    "    # Add more examples here...\n",
    "]\n",
    "\n",
    "# Prepare dataset for training\n",
    "def format_example(example):\n",
    "    # Format the prompt for the model\n",
    "    word, plain_explanation, formal_definition = example\n",
    "    input_text = f\"Explain in plain language: {word}. Formal definition: {formal_definition}\"\n",
    "    target_text = plain_explanation\n",
    "    return {\"input_text\": input_text, \"target_text\": target_text}\n",
    "\n",
    "# Convert data into a Dataset and apply formatting\n",
    "dataset = Dataset.from_dict({\"data\": data})\n",
    "dataset = dataset.map(lambda x: format_example(x[\"data\"]), remove_columns=[\"data\"])\n",
    "\n",
    "# Tokenize the input and target texts\n",
    "def tokenize_function(example):\n",
    "    inputs = tokenizer(example[\"input_text\"], padding=\"max_length\", truncation=True, max_length=256)\n",
    "    targets = tokenizer(example[\"target_text\"], padding=\"max_length\", truncation=True, max_length=128)\n",
    "    inputs[\"labels\"] = targets[\"input_ids\"]\n",
    "    return inputs\n",
    "\n",
    "tokenized_dataset = dataset.map(tokenize_function, batched=True)\n",
    "\n",
    "# Training arguments\n",
    "training_args = TrainingArguments(\n",
    "    output_dir=\"./llama-medical-plain-language\",\n",
    "    evaluation_strategy=\"epoch\",\n",
    "    learning_rate=5e-5,\n",
    "    per_device_train_batch_size=8,\n",
    "    per_device_eval_batch_size=8,\n",
    "    num_train_epochs=3,\n",
    "    weight_decay=0.01,\n",
    "    save_steps=10_000,\n",
    "    save_total_limit=2,\n",
    "    logging_dir=\"./logs\",\n",
    "    logging_steps=500,\n",
    ")\n",
    "\n",
    "# Initialize Trainer\n",
    "trainer = Trainer(\n",
    "    model=model,\n",
    "    args=training_args,\n",
    "    train_dataset=tokenized_dataset,\n",
    "    eval_dataset=tokenized_dataset,  # Ideally, use a separate validation set\n",
    ")\n",
    "\n",
    "# Fine-tune the model\n",
    "trainer.train()\n",
    "\n",
    "# Save the fine-tuned model\n",
    "trainer.save_model(\"./llama-medical-plain-language\")\n",
    "tokenizer.save_pretrained(\"./llama-medical-plain-language\")\n"
   ]
  }
 ],
 "metadata": {
  "language_info": {
   "name": "python"
  }
 },
 "nbformat": 4,
 "nbformat_minor": 2
}
